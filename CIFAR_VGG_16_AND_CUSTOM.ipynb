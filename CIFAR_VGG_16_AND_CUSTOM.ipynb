{
  "metadata": {
    "kernelspec": {
      "language": "python",
      "display_name": "Python 3",
      "name": "python3"
    },
    "language_info": {
      "pygments_lexer": "ipython3",
      "nbconvert_exporter": "python",
      "version": "3.6.4",
      "file_extension": ".py",
      "codemirror_mode": {
        "name": "ipython",
        "version": 3
      },
      "name": "python",
      "mimetype": "text/x-python"
    },
    "colab": {
      "name": "CIFAR EE VGG-16",
      "provenance": []
    }
  },
  "nbformat_minor": 0,
  "nbformat": 4,
  "cells": [
    {
      "cell_type": "code",
      "source": [
        "import tensorflow as tf\n",
        "from tensorflow import keras\n",
        "from tensorflow.keras.models import Sequential\n",
        "from tensorflow.keras.layers import Conv2D, MaxPool2D, Flatten, Dense, Dropout\n",
        "import matplotlib.pyplot as plt\n",
        "import os\n",
        "import time\n",
        "from tensorflow.keras.utils import to_categorical"
      ],
      "metadata": {
        "_uuid": "8f2839f25d086af736a60e9eeb907d3b93b6e0e5",
        "_cell_guid": "b1076dfc-b9ad-4769-8c92-a6c4dae69d19",
        "execution": {
          "iopub.status.busy": "2023-02-08T18:10:24.124056Z",
          "iopub.execute_input": "2023-02-08T18:10:24.125077Z",
          "iopub.status.idle": "2023-02-08T18:10:29.282946Z",
          "shell.execute_reply.started": "2023-02-08T18:10:24.124502Z",
          "shell.execute_reply": "2023-02-08T18:10:29.281954Z"
        },
        "trusted": true,
        "id": "TPRuUWhZ7KAv"
      },
      "execution_count": null,
      "outputs": []
    },
    {
      "cell_type": "code",
      "source": [
        "(train_images, train_labels), (test_images, test_labels) = keras.datasets.cifar10.load_data()"
      ],
      "metadata": {
        "execution": {
          "iopub.status.busy": "2023-02-08T18:10:29.284759Z",
          "iopub.execute_input": "2023-02-08T18:10:29.285436Z",
          "iopub.status.idle": "2023-02-08T18:10:34.901725Z",
          "shell.execute_reply.started": "2023-02-08T18:10:29.285379Z",
          "shell.execute_reply": "2023-02-08T18:10:34.900726Z"
        },
        "trusted": true,
        "id": "GA_lrW_E7KAx"
      },
      "execution_count": null,
      "outputs": []
    },
    {
      "cell_type": "code",
      "source": [
        "CLASS_NAMES= ['airplane', 'automobile', 'bird', 'cat', 'deer', 'dog', 'frog', 'horse', 'ship', 'truck']"
      ],
      "metadata": {
        "execution": {
          "iopub.status.busy": "2023-02-08T18:10:34.903269Z",
          "iopub.execute_input": "2023-02-08T18:10:34.90366Z",
          "iopub.status.idle": "2023-02-08T18:10:34.909215Z",
          "shell.execute_reply.started": "2023-02-08T18:10:34.903619Z",
          "shell.execute_reply": "2023-02-08T18:10:34.908188Z"
        },
        "trusted": true,
        "id": "FGAzzZWf7KAx"
      },
      "execution_count": null,
      "outputs": []
    },
    {
      "cell_type": "code",
      "source": [
        "num_classes = 10"
      ],
      "metadata": {
        "execution": {
          "iopub.status.busy": "2023-02-08T18:10:34.913056Z",
          "iopub.execute_input": "2023-02-08T18:10:34.913479Z",
          "iopub.status.idle": "2023-02-08T18:10:34.92793Z",
          "shell.execute_reply.started": "2023-02-08T18:10:34.913436Z",
          "shell.execute_reply": "2023-02-08T18:10:34.926977Z"
        },
        "trusted": true,
        "id": "GUccz6kg7KAy"
      },
      "execution_count": null,
      "outputs": []
    },
    {
      "cell_type": "code",
      "source": [
        "validation_images, validation_labels = train_images[:5000], train_labels[:5000]\n",
        "train_images, train_labels = train_images[5000:], train_labels[5000:]"
      ],
      "metadata": {
        "execution": {
          "iopub.status.busy": "2023-02-08T18:10:34.929188Z",
          "iopub.execute_input": "2023-02-08T18:10:34.930333Z",
          "iopub.status.idle": "2023-02-08T18:10:34.93822Z",
          "shell.execute_reply.started": "2023-02-08T18:10:34.930307Z",
          "shell.execute_reply": "2023-02-08T18:10:34.937332Z"
        },
        "trusted": true,
        "id": "wIwhZA-r7KAy"
      },
      "execution_count": null,
      "outputs": []
    },
    {
      "cell_type": "code",
      "source": [
        "train_ds = tf.data.Dataset.from_tensor_slices((train_images, train_labels))\n",
        "test_ds = tf.data.Dataset.from_tensor_slices((test_images, test_labels))\n",
        "validation_ds = tf.data.Dataset.from_tensor_slices((validation_images, validation_labels))"
      ],
      "metadata": {
        "execution": {
          "iopub.status.busy": "2023-02-08T18:10:34.93937Z",
          "iopub.execute_input": "2023-02-08T18:10:34.940201Z",
          "iopub.status.idle": "2023-02-08T18:10:38.720389Z",
          "shell.execute_reply.started": "2023-02-08T18:10:34.940167Z",
          "shell.execute_reply": "2023-02-08T18:10:38.719408Z"
        },
        "trusted": true,
        "id": "7lMpO1FZ7KAy"
      },
      "execution_count": null,
      "outputs": []
    },
    {
      "cell_type": "code",
      "source": [
        "plt.figure(figsize=(20,20))\n",
        "for i, (image, label) in enumerate(train_ds.take(5)):\n",
        "    ax = plt.subplot(5,5,i+1)\n",
        "    plt.imshow(image)\n",
        "    plt.title(CLASS_NAMES[label.numpy()[0]])\n",
        "    plt.axis('off')"
      ],
      "metadata": {
        "execution": {
          "iopub.status.busy": "2023-02-08T18:10:38.722062Z",
          "iopub.execute_input": "2023-02-08T18:10:38.722455Z",
          "iopub.status.idle": "2023-02-08T18:10:39.297289Z",
          "shell.execute_reply.started": "2023-02-08T18:10:38.722417Z",
          "shell.execute_reply": "2023-02-08T18:10:39.296329Z"
        },
        "trusted": true,
        "id": "3HbMLRem7KAy"
      },
      "execution_count": null,
      "outputs": []
    },
    {
      "cell_type": "code",
      "source": [
        "def process_images(image, label):\n",
        "    # Normalize images to have a mean of 0 and standard deviation of 1\n",
        "    image = tf.image.per_image_standardization(image)\n",
        "    # Resize images from 32x32 to 224x224\n",
        "    image = tf.image.resize(image, (224,224))\n",
        "    return image, label"
      ],
      "metadata": {
        "execution": {
          "iopub.status.busy": "2023-02-08T18:10:39.298552Z",
          "iopub.execute_input": "2023-02-08T18:10:39.299526Z",
          "iopub.status.idle": "2023-02-08T18:10:39.305191Z",
          "shell.execute_reply.started": "2023-02-08T18:10:39.299487Z",
          "shell.execute_reply": "2023-02-08T18:10:39.304156Z"
        },
        "trusted": true,
        "id": "x1xwE7Sm7KAz"
      },
      "execution_count": null,
      "outputs": []
    },
    {
      "cell_type": "code",
      "source": [
        "train_ds = (train_ds\n",
        "                  .map(process_images)\n",
        "                  .shuffle(buffer_size=10)\n",
        "                  .batch(batch_size=32, drop_remainder=True))\n",
        "test_ds = (test_ds\n",
        "                  .map(process_images)\n",
        "                  .shuffle(buffer_size=10)\n",
        "                  .batch(batch_size=32, drop_remainder=True))\n",
        "validation_ds = (validation_ds\n",
        "                  .map(process_images)\n",
        "                  .shuffle(buffer_size=10)\n",
        "                  .batch(batch_size=32, drop_remainder=True))"
      ],
      "metadata": {
        "execution": {
          "iopub.status.busy": "2023-02-08T18:10:39.306669Z",
          "iopub.execute_input": "2023-02-08T18:10:39.307076Z",
          "iopub.status.idle": "2023-02-08T18:10:39.423698Z",
          "shell.execute_reply.started": "2023-02-08T18:10:39.307039Z",
          "shell.execute_reply": "2023-02-08T18:10:39.422791Z"
        },
        "trusted": true,
        "id": "J6JZ_dN27KAz"
      },
      "execution_count": null,
      "outputs": []
    },
    {
      "cell_type": "code",
      "source": [
        "model = keras.models.Sequential([\n",
        "    keras.layers.Conv2D(filters=64, kernel_size=(3,3), padding=\"same\", activation=\"relu\", input_shape=(224,224,3)),\n",
        "    keras.layers.Conv2D(filters=64, kernel_size=(3,3), padding=\"same\", activation=\"relu\"),\n",
        "    keras.layers.MaxPooling2D((2, 2)),\n",
        "\n",
        "    keras.layers.Conv2D(filters=128, kernel_size=(3,3), padding=\"same\", activation=\"relu\"),\n",
        "    keras.layers.Conv2D(filters=128, kernel_size=(3,3), padding=\"same\", activation=\"relu\"),\n",
        "    keras.layers.MaxPooling2D((2, 2)),\n",
        "\n",
        "    keras.layers.Conv2D(filters=256, kernel_size=(3,3), padding=\"same\", activation=\"relu\"),\n",
        "    keras.layers.Conv2D(filters=256, kernel_size=(3,3), padding=\"same\", activation=\"relu\"),\n",
        "    keras.layers.Conv2D(filters=256, kernel_size=(3,3), padding=\"same\", activation=\"relu\"),\n",
        "    keras.layers.MaxPooling2D((2, 2)),\n",
        "\n",
        "    keras.layers.Conv2D(filters=512, kernel_size=(3,3), padding=\"same\", activation=\"relu\"),\n",
        "    keras.layers.Conv2D(filters=512, kernel_size=(3,3), padding=\"same\", activation=\"relu\"),\n",
        "    keras.layers.Conv2D(filters=512, kernel_size=(3,3), padding=\"same\", activation=\"relu\"),\n",
        "    keras.layers.MaxPooling2D((2, 2)),\n",
        "\n",
        "    keras.layers.Conv2D(filters=512, kernel_size=(3,3), padding=\"same\", activation=\"relu\"),\n",
        "    keras.layers.Conv2D(filters=512, kernel_size=(3,3), padding=\"same\", activation=\"relu\"),\n",
        "    keras.layers.Conv2D(filters=512, kernel_size=(3,3), padding=\"same\", activation=\"relu\"),\n",
        "    keras.layers.MaxPooling2D((2, 2)),\n",
        "\n",
        "    keras.layers.Flatten(),\n",
        "    keras.layers.Dense(4096, activation=\"relu\"),\n",
        "    keras.layers.Dense(4096, activation=\"relu\"),\n",
        "    keras.layers.Dense(num_classes, activation=\"softmax\")\n",
        "])"
      ],
      "metadata": {
        "execution": {
          "iopub.status.busy": "2023-02-08T18:10:39.427105Z",
          "iopub.execute_input": "2023-02-08T18:10:39.427493Z",
          "iopub.status.idle": "2023-02-08T18:10:39.601033Z",
          "shell.execute_reply.started": "2023-02-08T18:10:39.427462Z",
          "shell.execute_reply": "2023-02-08T18:10:39.600133Z"
        },
        "trusted": true,
        "id": "uwTn0CaT7KAz"
      },
      "execution_count": null,
      "outputs": []
    },
    {
      "cell_type": "code",
      "source": [
        "model.compile(loss='sparse_categorical_crossentropy', optimizer=tf.optimizers.SGD(lr=0.001), metrics=['accuracy'])\n",
        "model.summary()"
      ],
      "metadata": {
        "execution": {
          "iopub.status.busy": "2023-02-08T18:10:39.602347Z",
          "iopub.execute_input": "2023-02-08T18:10:39.602786Z",
          "iopub.status.idle": "2023-02-08T18:10:39.620738Z",
          "shell.execute_reply.started": "2023-02-08T18:10:39.602748Z",
          "shell.execute_reply": "2023-02-08T18:10:39.619823Z"
        },
        "trusted": true,
        "id": "NeKkVIRk7KA0"
      },
      "execution_count": null,
      "outputs": []
    },
    {
      "cell_type": "code",
      "source": [
        "history = model.fit(train_ds,\n",
        "          epochs=8,\n",
        "          validation_data=validation_ds,\n",
        "          validation_freq=1,)"
      ],
      "metadata": {
        "execution": {
          "iopub.status.busy": "2023-02-08T18:10:39.62226Z",
          "iopub.execute_input": "2023-02-08T18:10:39.622897Z",
          "iopub.status.idle": "2023-02-08T18:54:34.08211Z",
          "shell.execute_reply.started": "2023-02-08T18:10:39.622862Z",
          "shell.execute_reply": "2023-02-08T18:54:34.080987Z"
        },
        "trusted": true,
        "id": "OM-jAYQI7KA0"
      },
      "execution_count": null,
      "outputs": []
    },
    {
      "cell_type": "code",
      "source": [
        "model.evaluate(test_ds)"
      ],
      "metadata": {
        "execution": {
          "iopub.status.busy": "2023-02-08T18:54:34.085357Z",
          "iopub.execute_input": "2023-02-08T18:54:34.085706Z",
          "iopub.status.idle": "2023-02-08T18:55:15.075595Z",
          "shell.execute_reply.started": "2023-02-08T18:54:34.085666Z",
          "shell.execute_reply": "2023-02-08T18:55:15.074469Z"
        },
        "trusted": true,
        "id": "4zeu51sq7KA0"
      },
      "execution_count": null,
      "outputs": []
    },
    {
      "cell_type": "code",
      "source": [
        "acc = history.history['accuracy']\n",
        "val_acc = history.history['val_accuracy']\n",
        "\n",
        "loss = history.history['loss']\n",
        "val_loss = history.history['val_loss']\n",
        "\n",
        "plt.figure(figsize=(8, 8))\n",
        "plt.subplot(2, 1, 1)\n",
        "plt.plot(acc, label='Training Accuracy')\n",
        "plt.plot(val_acc, label='Validation Accuracy')\n",
        "plt.legend(loc='lower right')\n",
        "plt.ylabel('Accuracy')\n",
        "plt.title('Training and Validation Accuracy')\n",
        "\n",
        "plt.subplot(2, 1, 2)\n",
        "plt.plot(loss, label='Training Loss')\n",
        "plt.plot(val_loss, label='Validation Loss')\n",
        "plt.legend(loc='upper right')\n",
        "plt.ylabel('Loss')\n",
        "plt.title('Training and Validation Loss')\n",
        "plt.xlabel('Epoch Number')\n",
        "plt.show()"
      ],
      "metadata": {
        "execution": {
          "iopub.status.busy": "2023-02-08T18:55:15.077212Z",
          "iopub.execute_input": "2023-02-08T18:55:15.078675Z",
          "iopub.status.idle": "2023-02-08T18:55:15.39415Z",
          "shell.execute_reply.started": "2023-02-08T18:55:15.078636Z",
          "shell.execute_reply": "2023-02-08T18:55:15.393265Z"
        },
        "trusted": true,
        "id": "lIZah03K7KA0"
      },
      "execution_count": null,
      "outputs": []
    }
  ]
}